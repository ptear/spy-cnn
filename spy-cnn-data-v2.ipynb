{
 "cells": [
  {
   "cell_type": "code",
   "execution_count": 1,
   "metadata": {},
   "outputs": [],
   "source": [
    "from fastbook import *\n",
    "import yahoofinance as yf\n",
    "import plotly.express as px\n",
    "import os"
   ]
  },
  {
   "cell_type": "code",
   "execution_count": 24,
   "metadata": {},
   "outputs": [],
   "source": [
    "profile_train = yf.HistoricalPrices('SPY', \"2000-01-01\", \"2016-01-01\", frequency=\"1d\")\n",
    "profile_valid = yf.HistoricalPrices('SPY', \"2016-01-01\", \"2020-01-01\", frequency=\"1d\")\n",
    "df_train = profile_train.to_dfs()[\"Historical Prices\"]\n",
    "df_valid = profile_valid.to_dfs()[\"Historical Prices\"]"
   ]
  },
  {
   "cell_type": "code",
   "execution_count": 27,
   "metadata": {},
   "outputs": [
    {
     "data": {
      "text/plain": [
       "(4025, 6)"
      ]
     },
     "execution_count": 27,
     "metadata": {},
     "output_type": "execute_result"
    }
   ],
   "source": [
    "df_train.shape"
   ]
  },
  {
   "cell_type": "code",
   "execution_count": 28,
   "metadata": {},
   "outputs": [
    {
     "data": {
      "text/plain": [
       "(1006, 6)"
      ]
     },
     "execution_count": 28,
     "metadata": {},
     "output_type": "execute_result"
    }
   ],
   "source": [
    "df_valid.shape"
   ]
  },
  {
   "cell_type": "code",
   "execution_count": 31,
   "metadata": {},
   "outputs": [],
   "source": [
    "if not os.path.exists(\"data-v2\"):\n",
    "    os.mkdir(\"data-v2\")"
   ]
  },
  {
   "cell_type": "code",
   "execution_count": 32,
   "metadata": {},
   "outputs": [],
   "source": [
    "if not os.path.exists(\"data-v2/train\"):\n",
    "    os.mkdir(\"data-v2/train\")\n",
    "    \n",
    "if not os.path.exists(\"data-v2/valid\"):\n",
    "    os.mkdir(\"data-v2/valid\")"
   ]
  },
  {
   "cell_type": "code",
   "execution_count": 34,
   "metadata": {},
   "outputs": [],
   "source": [
    "if not os.path.exists(\"data-v2/train/buy\"):\n",
    "    os.mkdir(\"data-v2/train/buy\")\n",
    "    \n",
    "if not os.path.exists(\"data-v2/train/sell\"):\n",
    "    os.mkdir(\"data-v2/train/sell\")\n",
    "    \n",
    "if not os.path.exists(\"data-v2/valid/buy\"):\n",
    "    os.mkdir(\"data-v2/valid/buy\")\n",
    "    \n",
    "if not os.path.exists(\"data-v2/valid/sell\"):\n",
    "    os.mkdir(\"data-v2/valid/sell\")"
   ]
  },
  {
   "cell_type": "code",
   "execution_count": 39,
   "metadata": {},
   "outputs": [],
   "source": [
    "# train\n",
    "past_five = []\n",
    "for index, row in df_train.iterrows():\n",
    "    if len(past_five) == 5:\n",
    "        to_graph = [val - past_five[0] for val in past_five]\n",
    "        fig = px.line(to_graph)\n",
    "        fig.update_layout(showlegend=False)\n",
    "        ret = row[\"Adj Close\"] > past_five[-1]\n",
    "        if ret:\n",
    "            fig.write_image(f\"data-v2/train/buy/{index}.png\")\n",
    "        else:\n",
    "            fig.write_image(f\"data-v2/train/sell/{index}.png\")\n",
    "        del past_five[0]\n",
    "    past_five.append(row[\"Adj Close\"])"
   ]
  },
  {
   "cell_type": "code",
   "execution_count": 40,
   "metadata": {},
   "outputs": [],
   "source": [
    "# valid\n",
    "past_five = []\n",
    "for index, row in df_valid.iterrows():\n",
    "    if len(past_five) == 5:\n",
    "        to_graph = [val - past_five[0] for val in past_five]\n",
    "        fig = px.line(to_graph)\n",
    "        fig.update_layout(showlegend=False)\n",
    "        ret = row[\"Adj Close\"] > past_five[-1]\n",
    "        if ret:\n",
    "            fig.write_image(f\"data-v2/valid/buy/{index}.png\")\n",
    "        else:\n",
    "            fig.write_image(f\"data-v2/valid/sell/{index}.png\")\n",
    "        del past_five[0]\n",
    "    past_five.append(row[\"Adj Close\"])"
   ]
  },
  {
   "cell_type": "code",
   "execution_count": null,
   "metadata": {},
   "outputs": [],
   "source": []
  }
 ],
 "metadata": {
  "kernelspec": {
   "display_name": "Python 3",
   "language": "python",
   "name": "python3"
  },
  "language_info": {
   "codemirror_mode": {
    "name": "ipython",
    "version": 3
   },
   "file_extension": ".py",
   "mimetype": "text/x-python",
   "name": "python",
   "nbconvert_exporter": "python",
   "pygments_lexer": "ipython3",
   "version": "3.8.6"
  }
 },
 "nbformat": 4,
 "nbformat_minor": 4
}
